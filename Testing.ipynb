{
 "cells": [
  {
   "cell_type": "code",
   "execution_count": 1,
   "metadata": {},
   "outputs": [],
   "source": [
    "%load_ext autoreload"
   ]
  },
  {
   "cell_type": "code",
   "execution_count": 2,
   "metadata": {},
   "outputs": [],
   "source": [
    "%autoreload 2"
   ]
  },
  {
   "cell_type": "code",
   "execution_count": 5,
   "metadata": {},
   "outputs": [
    {
     "name": "stdout",
     "output_type": "stream",
     "text": [
      "Help on function get_diagonals in module testnumpy:\n",
      "\n",
      "get_diagonals()\n",
      "    Returns a function that calculates the diagonals of an array. \n",
      "    The returned function has the following structure:\n",
      "    \n",
      "    Parameters\n",
      "    ----------\n",
      "    arr : a numpy ndarray\n",
      "    \n",
      "    Returns\n",
      "    -------\n",
      "    List of ndarray views of the diagonals of the input array.\n",
      "    \n",
      "    Example usage\n",
      "    -------------\n",
      "    \n",
      "    \n",
      "    Notes\n",
      "    -----\n",
      "    Let *d* be the the number of dimension of the input array.\n",
      "    The number of corners is 2^d and hence the number of diagonals is 2^d / 2 = 2^(d-1).\n",
      "    \n",
      "    All diagonals exist is the same number of dimensions as the input array\n",
      "\n"
     ]
    }
   ],
   "source": [
    "help(tn.get_diagonals)"
   ]
  }
 ],
 "metadata": {
  "kernelspec": {
   "display_name": "Python 3",
   "language": "python",
   "name": "python3"
  },
  "language_info": {
   "codemirror_mode": {
    "name": "ipython",
    "version": 3
   },
   "file_extension": ".py",
   "mimetype": "text/x-python",
   "name": "python",
   "nbconvert_exporter": "python",
   "pygments_lexer": "ipython3",
   "version": "3.7.1"
  }
 },
 "nbformat": 4,
 "nbformat_minor": 2
}
